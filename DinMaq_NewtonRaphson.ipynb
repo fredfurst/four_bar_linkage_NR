{
 "cells": [
  {
   "cell_type": "markdown",
   "id": "21c1ac80",
   "metadata": {},
   "source": [
    "# Exemplo de Uso de Newton-Raphson Dinâmica de Máquinas"
   ]
  },
  {
   "cell_type": "markdown",
   "id": "5187f673",
   "metadata": {},
   "source": [
    "Frederico Furst Bittencourt\n",
    "\n",
    "2022/set/07 - Engenharia Mecânica e Aeronáutica - FUMEC"
   ]
  },
  {
   "cell_type": "markdown",
   "id": "4b1b4944",
   "metadata": {},
   "source": [
    "## Introdução"
   ]
  },
  {
   "cell_type": "markdown",
   "id": "e5d7b94b",
   "metadata": {},
   "source": [
    "### Definições de Símbolos e Valores"
   ]
  },
  {
   "cell_type": "code",
   "execution_count": 4,
   "id": "15775cc9",
   "metadata": {},
   "outputs": [],
   "source": [
    "import sympy as sy\n",
    "import numpy as np"
   ]
  },
  {
   "cell_type": "code",
   "execution_count": 2,
   "id": "5772df4e",
   "metadata": {},
   "outputs": [],
   "source": [
    "theta2, theta3, theta4 = sy.symbols('theta2 theta3 theta4',real=True)"
   ]
  },
  {
   "cell_type": "code",
   "execution_count": 3,
   "id": "c7537b12",
   "metadata": {},
   "outputs": [],
   "source": [
    "rho1, rho2, rho3, rho4 = sy.symbols('rho1 rho2 rho3 rho4',real=True)"
   ]
  },
  {
   "attachments": {
    "image-2.png": {
     "image/png": "[encoded data removed]"
    }
   },
   "cell_type": "markdown",
   "id": "9ce9da4d",
   "metadata": {},
   "source": [
    "![image-2.png](attachment:image-2.png)"
   ]
  },
  {
   "cell_type": "markdown",
   "id": "dc000797",
   "metadata": {},
   "source": [
    "Fig, 1 - Mecanismo de Quatro Barras."
   ]
  },
  {
   "cell_type": "markdown",
   "id": "f3c665ac",
   "metadata": {},
   "source": [
    "Por conta dos quatro corpos formarem um ciclo fechado, podemos escrever números complexos referentes a um plano de Argand-Gauss com origem em $O_2$."
   ]
  },
  {
   "cell_type": "code",
   "execution_count": 4,
   "id": "326dbba7",
   "metadata": {},
   "outputs": [
    {
     "data": {
      "text/latex": [
       "$\\displaystyle \\rho_{2} e^{i \\theta_{2}} + \\rho_{3} e^{i \\theta_{3}} = \\rho_{1} + \\rho_{4} e^{i \\theta_{4}}$"
      ],
      "text/plain": [
       "Eq(rho2*exp(I*theta2) + rho3*exp(I*theta3), rho1 + rho4*exp(I*theta4))"
      ]
     },
     "execution_count": 4,
     "metadata": {},
     "output_type": "execute_result"
    }
   ],
   "source": [
    "eq = sy.Eq(rho2*sy.exp(sy.I*theta2)+rho3*sy.exp(sy.I*theta3),rho1+rho4*sy.exp(sy.I*theta4))\n",
    "eq"
   ]
  },
  {
   "cell_type": "markdown",
   "id": "faea7d92",
   "metadata": {},
   "source": [
    "Substituindo os comprimentos."
   ]
  },
  {
   "cell_type": "code",
   "execution_count": 5,
   "id": "c238a97b",
   "metadata": {},
   "outputs": [
    {
     "data": {
      "text/latex": [
       "$\\displaystyle 8.0 e^{i \\theta_{3}} + 2.0 = 6.0 e^{i \\theta_{4}} + 10.0$"
      ],
      "text/plain": [
       "Eq(8.0*exp(I*theta3) + 2.0, 6.0*exp(I*theta4) + 10.0)"
      ]
     },
     "execution_count": 5,
     "metadata": {},
     "output_type": "execute_result"
    }
   ],
   "source": [
    "eqsubs = eq.subs({\n",
    "    theta2:0.0,\n",
    "    rho1:10.0,\n",
    "    rho2:2.0,\n",
    "    rho3:8.0,\n",
    "    rho4:6.0,})\n",
    "eqsubs"
   ]
  },
  {
   "cell_type": "markdown",
   "id": "5df1a365",
   "metadata": {},
   "source": [
    "## Resolução Iterativa"
   ]
  },
  {
   "cell_type": "code",
   "execution_count": 6,
   "id": "c1a1882b",
   "metadata": {},
   "outputs": [
    {
     "data": {
      "text/plain": [
       "[(3.14159265358979 - asin(0.75*sin(theta4)),), (asin(0.75*sin(theta4)),)]"
      ]
     },
     "execution_count": 6,
     "metadata": {},
     "output_type": "execute_result"
    }
   ],
   "source": [
    "sy.solve(eqsubs,theta3)"
   ]
  },
  {
   "cell_type": "code",
   "execution_count": 7,
   "id": "b2465539",
   "metadata": {},
   "outputs": [
    {
     "data": {
      "text/plain": [
       "[2.36320426609408, 0.778388387495713]"
      ]
     },
     "execution_count": 7,
     "metadata": {},
     "output_type": "execute_result"
    }
   ],
   "source": [
    "[ i[0].subs({theta4:1.93}) for i in sy.solve(eqsubs,theta3) ]"
   ]
  },
  {
   "cell_type": "code",
   "execution_count": 8,
   "id": "be56617c",
   "metadata": {},
   "outputs": [
    {
     "data": {
      "text/plain": [
       "[(3.14159265358979 - asin(1.33333333333333*sin(theta3)),),\n",
       " (asin(1.33333333333333*sin(theta3)),)]"
      ]
     },
     "execution_count": 8,
     "metadata": {},
     "output_type": "execute_result"
    }
   ],
   "source": [
    "sy.solve(eqsubs,theta4)"
   ]
  },
  {
   "cell_type": "code",
   "execution_count": 9,
   "id": "31d8d36b",
   "metadata": {},
   "outputs": [
    {
     "data": {
      "text/latex": [
       "$\\displaystyle - \\rho_{1} + \\rho_{2} \\cos{\\left(\\theta_{2} \\right)} + \\rho_{3} \\cos{\\left(\\theta_{3} \\right)} - \\rho_{4} \\cos{\\left(\\theta_{4} \\right)}$"
      ],
      "text/plain": [
       "-rho1 + rho2*cos(theta2) + rho3*cos(theta3) - rho4*cos(theta4)"
      ]
     },
     "execution_count": 9,
     "metadata": {},
     "output_type": "execute_result"
    }
   ],
   "source": [
    "sy.re(rho2*sy.exp(sy.I*theta2)+rho3*sy.exp(sy.I*theta3)-rho1-rho4*sy.exp(sy.I*theta4))"
   ]
  },
  {
   "cell_type": "code",
   "execution_count": 10,
   "id": "19044406",
   "metadata": {},
   "outputs": [
    {
     "data": {
      "text/latex": [
       "$\\displaystyle \\rho_{2} \\sin{\\left(\\theta_{2} \\right)} + \\rho_{3} \\sin{\\left(\\theta_{3} \\right)} - \\rho_{4} \\sin{\\left(\\theta_{4} \\right)}$"
      ],
      "text/plain": [
       "rho2*sin(theta2) + rho3*sin(theta3) - rho4*sin(theta4)"
      ]
     },
     "execution_count": 10,
     "metadata": {},
     "output_type": "execute_result"
    }
   ],
   "source": [
    "sy.im(rho2*sy.exp(sy.I*theta2)+rho3*sy.exp(sy.I*theta3)-rho1-rho4*sy.exp(sy.I*theta4))"
   ]
  },
  {
   "cell_type": "code",
   "execution_count": 11,
   "id": "32aa55bf",
   "metadata": {},
   "outputs": [],
   "source": [
    "f1 = sy.re(rho2*sy.exp(sy.I*theta2)+rho3*sy.exp(sy.I*theta3)-rho1-rho4*sy.exp(sy.I*theta4)).subs({\n",
    "    theta2:0.0,\n",
    "    rho1:10.0,\n",
    "    rho2:2.0,\n",
    "    rho3:8.0,\n",
    "    rho4:6.0,})\n",
    "f2 = sy.im(rho2*sy.exp(sy.I*theta2)+rho3*sy.exp(sy.I*theta3)-rho1-rho4*sy.exp(sy.I*theta4)).subs({\n",
    "    theta2:0.0,\n",
    "    rho1:10.0,\n",
    "    rho2:2.0,\n",
    "    rho3:8.0,\n",
    "    rho4:6.0,})"
   ]
  },
  {
   "cell_type": "code",
   "execution_count": 12,
   "id": "5524b1f9",
   "metadata": {},
   "outputs": [],
   "source": [
    "df13 = f1.diff(theta3)\n",
    "df14 = f1.diff(theta4)\n",
    "df23 = f2.diff(theta3)\n",
    "df24 = f2.diff(theta4)"
   ]
  },
  {
   "cell_type": "code",
   "execution_count": 13,
   "id": "4899f6a0",
   "metadata": {},
   "outputs": [
    {
     "data": {
      "text/latex": [
       "$\\displaystyle - 8.0 \\sin{\\left(\\theta_{3} \\right)}$"
      ],
      "text/plain": [
       "-8.0*sin(theta3)"
      ]
     },
     "execution_count": 13,
     "metadata": {},
     "output_type": "execute_result"
    }
   ],
   "source": [
    "df13"
   ]
  },
  {
   "cell_type": "code",
   "execution_count": 14,
   "id": "fde3232e",
   "metadata": {},
   "outputs": [
    {
     "data": {
      "text/latex": [
       "$\\displaystyle 6.0 \\sin{\\left(\\theta_{4} \\right)}$"
      ],
      "text/plain": [
       "6.0*sin(theta4)"
      ]
     },
     "execution_count": 14,
     "metadata": {},
     "output_type": "execute_result"
    }
   ],
   "source": [
    "df14"
   ]
  },
  {
   "cell_type": "code",
   "execution_count": 15,
   "id": "073b13fd",
   "metadata": {},
   "outputs": [
    {
     "data": {
      "text/latex": [
       "$\\displaystyle 8.0 \\cos{\\left(\\theta_{3} \\right)}$"
      ],
      "text/plain": [
       "8.0*cos(theta3)"
      ]
     },
     "execution_count": 15,
     "metadata": {},
     "output_type": "execute_result"
    }
   ],
   "source": [
    "df23"
   ]
  },
  {
   "cell_type": "code",
   "execution_count": 16,
   "id": "56558cde",
   "metadata": {},
   "outputs": [
    {
     "data": {
      "text/latex": [
       "$\\displaystyle - 6.0 \\cos{\\left(\\theta_{4} \\right)}$"
      ],
      "text/plain": [
       "-6.0*cos(theta4)"
      ]
     },
     "execution_count": 16,
     "metadata": {},
     "output_type": "execute_result"
    }
   ],
   "source": [
    "df24"
   ]
  },
  {
   "cell_type": "code",
   "execution_count": 17,
   "id": "f8586307",
   "metadata": {},
   "outputs": [],
   "source": [
    "J = sy.Matrix([\n",
    "    [ df13, df14, ],\n",
    "    [ df23, df24, ],\n",
    "])\n",
    "Jinv = J.inv()"
   ]
  },
  {
   "cell_type": "code",
   "execution_count": 18,
   "id": "40066320",
   "metadata": {},
   "outputs": [
    {
     "data": {
      "text/latex": [
       "$\\displaystyle \\left[\\begin{matrix}- 8.0 \\sin{\\left(\\theta_{3} \\right)} & 6.0 \\sin{\\left(\\theta_{4} \\right)}\\\\8.0 \\cos{\\left(\\theta_{3} \\right)} & - 6.0 \\cos{\\left(\\theta_{4} \\right)}\\end{matrix}\\right]$"
      ],
      "text/plain": [
       "Matrix([\n",
       "[-8.0*sin(theta3),  6.0*sin(theta4)],\n",
       "[ 8.0*cos(theta3), -6.0*cos(theta4)]])"
      ]
     },
     "execution_count": 18,
     "metadata": {},
     "output_type": "execute_result"
    }
   ],
   "source": [
    "J"
   ]
  },
  {
   "cell_type": "code",
   "execution_count": 19,
   "id": "88dd52fe",
   "metadata": {},
   "outputs": [
    {
     "data": {
      "text/latex": [
       "$\\displaystyle \\left[\\begin{matrix}- \\frac{0.125 \\cos{\\left(\\theta_{4} \\right)}}{1.0 \\sin{\\left(\\theta_{3} \\right)} \\cos{\\left(\\theta_{4} \\right)} - 1.0 \\sin{\\left(\\theta_{4} \\right)} \\cos{\\left(\\theta_{3} \\right)}} & - \\frac{0.125 \\sin{\\left(\\theta_{4} \\right)}}{1.0 \\sin{\\left(\\theta_{3} \\right)} \\cos{\\left(\\theta_{4} \\right)} - 1.0 \\sin{\\left(\\theta_{4} \\right)} \\cos{\\left(\\theta_{3} \\right)}}\\\\- \\frac{0.166666666666667 \\cos{\\left(\\theta_{3} \\right)}}{1.0 \\sin{\\left(\\theta_{3} \\right)} \\cos{\\left(\\theta_{4} \\right)} - 1.0 \\sin{\\left(\\theta_{4} \\right)} \\cos{\\left(\\theta_{3} \\right)}} & - \\frac{0.166666666666667 \\sin{\\left(\\theta_{3} \\right)}}{1.0 \\sin{\\left(\\theta_{3} \\right)} \\cos{\\left(\\theta_{4} \\right)} - 1.0 \\sin{\\left(\\theta_{4} \\right)} \\cos{\\left(\\theta_{3} \\right)}}\\end{matrix}\\right]$"
      ],
      "text/plain": [
       "Matrix([\n",
       "[            -0.125*cos(theta4)/(1.0*sin(theta3)*cos(theta4) - 1.0*sin(theta4)*cos(theta3)),             -0.125*sin(theta4)/(1.0*sin(theta3)*cos(theta4) - 1.0*sin(theta4)*cos(theta3))],\n",
       "[-0.166666666666667*cos(theta3)/(1.0*sin(theta3)*cos(theta4) - 1.0*sin(theta4)*cos(theta3)), -0.166666666666667*sin(theta3)/(1.0*sin(theta3)*cos(theta4) - 1.0*sin(theta4)*cos(theta3))]])"
      ]
     },
     "execution_count": 19,
     "metadata": {},
     "output_type": "execute_result"
    }
   ],
   "source": [
    "Jinv"
   ]
  },
  {
   "cell_type": "markdown",
   "id": "449d10bd",
   "metadata": {},
   "source": [
    "Matriz dos deltas:"
   ]
  },
  {
   "cell_type": "code",
   "execution_count": 20,
   "id": "49ad085a",
   "metadata": {},
   "outputs": [],
   "source": [
    "iteracao1 = sy.Matrix([\n",
    "                [ 1.4, ],\n",
    "                [ 1.8, ],\n",
    "            ])"
   ]
  },
  {
   "cell_type": "code",
   "execution_count": 21,
   "id": "2e61cf84",
   "metadata": {},
   "outputs": [],
   "source": [
    "f = sy.Matrix([\n",
    "    [ f1, ],\n",
    "    [ f2, ],\n",
    "])"
   ]
  },
  {
   "cell_type": "code",
   "execution_count": 22,
   "id": "1211f07b",
   "metadata": {},
   "outputs": [
    {
     "data": {
      "text/latex": [
       "$\\displaystyle \\left[\\begin{matrix}8.0 \\cos{\\left(\\theta_{3} \\right)} - 6.0 \\cos{\\left(\\theta_{4} \\right)} - 8.0\\\\8.0 \\sin{\\left(\\theta_{3} \\right)} - 6.0 \\sin{\\left(\\theta_{4} \\right)}\\end{matrix}\\right]$"
      ],
      "text/plain": [
       "Matrix([\n",
       "[8.0*cos(theta3) - 6.0*cos(theta4) - 8.0],\n",
       "[      8.0*sin(theta3) - 6.0*sin(theta4)]])"
      ]
     },
     "execution_count": 22,
     "metadata": {},
     "output_type": "execute_result"
    }
   ],
   "source": [
    "f"
   ]
  },
  {
   "cell_type": "code",
   "execution_count": 23,
   "id": "cea8b47b",
   "metadata": {},
   "outputs": [
    {
     "data": {
      "text/latex": [
       "$\\displaystyle \\left[\\begin{matrix}-0.0729299541163524 & 0.312596867261304\\\\0.0727440237717095 & 0.421761390824694\\end{matrix}\\right]$"
      ],
      "text/plain": [
       "Matrix([\n",
       "[-0.0729299541163524, 0.312596867261304],\n",
       "[ 0.0727440237717095, 0.421761390824694]])"
      ]
     },
     "execution_count": 23,
     "metadata": {},
     "output_type": "execute_result"
    }
   ],
   "source": [
    "Jinv.subs({\n",
    "                theta3:1.4,\n",
    "                theta4:1.8,\n",
    "            })"
   ]
  },
  {
   "cell_type": "markdown",
   "id": "dcb21962",
   "metadata": {},
   "source": [
    "Aplicação Direta da Fórmula de Newton-Raphson"
   ]
  },
  {
   "cell_type": "code",
   "execution_count": 24,
   "id": "63ce8c56",
   "metadata": {},
   "outputs": [
    {
     "data": {
      "text/latex": [
       "$\\displaystyle \\left[\\begin{matrix}0.3773\\\\1.323\\end{matrix}\\right]$"
      ],
      "text/plain": [
       "Matrix([\n",
       "[0.3773],\n",
       "[ 1.323]])"
      ]
     },
     "execution_count": 24,
     "metadata": {},
     "output_type": "execute_result"
    }
   ],
   "source": [
    "iteracao2 = iteracao1 - (Jinv*f).subs({\n",
    "                theta3:1.4,\n",
    "                theta4:1.8,\n",
    "            })\n",
    "iteracao2.evalf(4)"
   ]
  },
  {
   "cell_type": "code",
   "execution_count": 25,
   "id": "7de7f5c4",
   "metadata": {},
   "outputs": [
    {
     "data": {
      "text/latex": [
       "$\\displaystyle \\left[\\begin{matrix}0.883\\\\1.929\\end{matrix}\\right]$"
      ],
      "text/plain": [
       "Matrix([\n",
       "[0.883],\n",
       "[1.929]])"
      ]
     },
     "execution_count": 25,
     "metadata": {},
     "output_type": "execute_result"
    }
   ],
   "source": [
    "iteracao3 = iteracao2 -(Jinv*f).subs({\n",
    "    theta3: 0.3773,\n",
    "    theta4: 1.323,\n",
    "})\n",
    "iteracao3.evalf(4)"
   ]
  },
  {
   "cell_type": "code",
   "execution_count": 26,
   "id": "70270764",
   "metadata": {},
   "outputs": [
    {
     "data": {
      "text/latex": [
       "$\\displaystyle \\left[\\begin{matrix}0.7656\\\\1.946\\end{matrix}\\right]$"
      ],
      "text/plain": [
       "Matrix([\n",
       "[0.7656],\n",
       "[ 1.946]])"
      ]
     },
     "execution_count": 26,
     "metadata": {},
     "output_type": "execute_result"
    }
   ],
   "source": [
    "iteracao4 = iteracao3 -(Jinv*f).subs({\n",
    "    theta3: 0.883,\n",
    "    theta4: 1.929,\n",
    "})\n",
    "iteracao4.evalf(4)"
   ]
  },
  {
   "cell_type": "code",
   "execution_count": 27,
   "id": "609ef2de",
   "metadata": {},
   "outputs": [
    {
     "data": {
      "text/latex": [
       "$\\displaystyle \\left[\\begin{matrix}0.7688\\\\1.955\\end{matrix}\\right]$"
      ],
      "text/plain": [
       "Matrix([\n",
       "[0.7688],\n",
       "[ 1.955]])"
      ]
     },
     "execution_count": 27,
     "metadata": {},
     "output_type": "execute_result"
    }
   ],
   "source": [
    "iteracao5 = iteracao4 -(Jinv*f).subs({\n",
    "    theta3:0.7656,\n",
    "    theta4:1.946,\n",
    "})\n",
    "iteracao5.evalf(4)"
   ]
  },
  {
   "cell_type": "code",
   "execution_count": 28,
   "id": "1631319d",
   "metadata": {},
   "outputs": [
    {
     "data": {
      "text/latex": [
       "$\\displaystyle \\left[\\begin{matrix}0.7688\\\\1.955\\end{matrix}\\right]$"
      ],
      "text/plain": [
       "Matrix([\n",
       "[0.7688],\n",
       "[ 1.955]])"
      ]
     },
     "execution_count": 28,
     "metadata": {},
     "output_type": "execute_result"
    }
   ],
   "source": [
    "iteracao6 = iteracao5 -(Jinv*f).subs({\n",
    "    theta3:0.7688,\n",
    "    theta4:1.955,\n",
    "})\n",
    "iteracao6.evalf(4)"
   ]
  },
  {
   "cell_type": "code",
   "execution_count": 29,
   "id": "200cf020",
   "metadata": {},
   "outputs": [
    {
     "data": {
      "text/latex": [
       "$\\displaystyle \\left[\\begin{matrix}0.7688\\\\1.955\\end{matrix}\\right]$"
      ],
      "text/plain": [
       "Matrix([\n",
       "[0.7688],\n",
       "[ 1.955]])"
      ]
     },
     "execution_count": 29,
     "metadata": {},
     "output_type": "execute_result"
    }
   ],
   "source": [
    "iteracao7 = iteracao6 -(Jinv*f).subs({\n",
    "    theta3:0.7688,\n",
    "    theta4:1.955,\n",
    "})\n",
    "iteracao7.evalf(4)"
   ]
  },
  {
   "cell_type": "code",
   "execution_count": 30,
   "id": "139cf347",
   "metadata": {},
   "outputs": [
    {
     "data": {
      "text/latex": [
       "$\\displaystyle - \\frac{0.0208333333333333}{- 1.0 \\sin{\\left(\\theta_{3} \\right)} \\cos{\\left(\\theta_{4} \\right)} + 1.0 \\sin{\\left(\\theta_{4} \\right)} \\cos{\\left(\\theta_{3} \\right)}}$"
      ],
      "text/plain": [
       "-0.0208333333333333/(-1.0*sin(theta3)*cos(theta4) + 1.0*sin(theta4)*cos(theta3))"
      ]
     },
     "execution_count": 30,
     "metadata": {},
     "output_type": "execute_result"
    }
   ],
   "source": [
    "dJinv = Jinv.det()\n",
    "dJinv"
   ]
  },
  {
   "cell_type": "code",
   "execution_count": 31,
   "id": "8c7f8773",
   "metadata": {},
   "outputs": [],
   "source": [
    "iteracoes = []"
   ]
  },
  {
   "cell_type": "code",
   "execution_count": 32,
   "id": "3d0f43d5",
   "metadata": {},
   "outputs": [
    {
     "data": {
      "text/latex": [
       "$\\displaystyle \\left[\\begin{matrix}1.4\\\\1.8\\end{matrix}\\right]$"
      ],
      "text/plain": [
       "Matrix([\n",
       "[1.4],\n",
       "[1.8]])"
      ]
     },
     "execution_count": 32,
     "metadata": {},
     "output_type": "execute_result"
    }
   ],
   "source": [
    "iteracao1"
   ]
  },
  {
   "cell_type": "code",
   "execution_count": 33,
   "id": "952a4dd8",
   "metadata": {},
   "outputs": [
    {
     "data": {
      "text/latex": [
       "$\\displaystyle 1.8$"
      ],
      "text/plain": [
       "1.80000000000000"
      ]
     },
     "execution_count": 33,
     "metadata": {},
     "output_type": "execute_result"
    }
   ],
   "source": [
    "iteracao1[1]"
   ]
  },
  {
   "cell_type": "code",
   "execution_count": 34,
   "id": "c2d2cacd",
   "metadata": {},
   "outputs": [],
   "source": [
    "iteracoes.append(sy.Matrix([\n",
    "    [ 0.3773, ],\n",
    "    [ 1.323, ],\n",
    "])) "
   ]
  },
  {
   "cell_type": "code",
   "execution_count": 35,
   "id": "5807b5aa",
   "metadata": {},
   "outputs": [
    {
     "name": "stdout",
     "output_type": "stream",
     "text": [
      "Matrix([[0.3773], [1.323]])\n",
      "Matrix([[0.8830], [1.929]])\n",
      "Matrix([[0.7656], [1.945]])\n",
      "Matrix([[0.7688], [1.955]])\n",
      "Matrix([[0.7688], [1.955]])\n",
      "Matrix([[0.7688], [1.955]])\n",
      "Matrix([[0.7688], [1.955]])\n",
      "Matrix([[0.7688], [1.955]])\n",
      "Matrix([[0.7688], [1.955]])\n",
      "Matrix([[0.7688], [1.955]])\n"
     ]
    }
   ],
   "source": [
    "for k in range(10):\n",
    "    iteracoes.append(iteracoes[k] -(Jinv*f).subs({\n",
    "                                theta3:iteracoes[k][0],\n",
    "                                theta4:iteracoes[k][1],\n",
    "                            }))\n",
    "    print(iteracoes[k].evalf(4))"
   ]
  },
  {
   "cell_type": "code",
   "execution_count": 36,
   "id": "9814c140",
   "metadata": {},
   "outputs": [],
   "source": [
    "# Make data.\n",
    "X = np.arange(-2, 2, 0.1)\n",
    "Y = np.arange(-2, 2, 0.1)\n",
    "X, Y = np.meshgrid(X, Y)\n",
    "#Z= dJinv.subs({\n",
    "#    theta3:X,\n",
    "#    theta4:Z,\n",
    "#})\n",
    "def detMatrizInversa(x,y):\n",
    "    return dJinv.subs({\n",
    "            theta3:x,\n",
    "            theta4:y,\n",
    "        }).evalf(3)\n",
    "dmi = lambda x, y: np.array(dJinv.subs({theta3:x,theta4:y,}).evalf(4))\n",
    "#Z = np.array(dJinv.subs({\n",
    "#            theta3:X,\n",
    "#            theta4:Y,\n",
    "#        }))\n",
    "Z = dmi(X, Y)"
   ]
  },
  {
   "cell_type": "code",
   "execution_count": 37,
   "id": "b40d200d",
   "metadata": {},
   "outputs": [],
   "source": [
    "Z = np.zeros(X.shape)"
   ]
  },
  {
   "cell_type": "code",
   "execution_count": 38,
   "id": "aa4c4e55",
   "metadata": {},
   "outputs": [],
   "source": [
    "import matplotlib.pyplot as plt\n",
    "from matplotlib import cm\n",
    "from matplotlib.ticker import LinearLocator\n",
    "import numpy as np"
   ]
  },
  {
   "cell_type": "code",
   "execution_count": 39,
   "id": "1f061d27",
   "metadata": {},
   "outputs": [],
   "source": [
    "theta2s = np.linspace(0,2*np.pi,50)"
   ]
  },
  {
   "cell_type": "code",
   "execution_count": 40,
   "id": "690f1584",
   "metadata": {},
   "outputs": [],
   "source": [
    "t3t4 = []\n",
    "for t in theta2s:\n",
    "    f1 = sy.re(rho2*sy.exp(sy.I*theta2)+rho3*sy.exp(sy.I*theta3)-\n",
    "               rho1-rho4*sy.exp(sy.I*theta4)).subs({\n",
    "                    theta2:t,\n",
    "                    rho1:10.0,\n",
    "                    rho2:2.0,\n",
    "                    rho3:8.0,\n",
    "                    rho4:6.0,})\n",
    "    f2 = sy.im(rho2*sy.exp(sy.I*theta2)+rho3*sy.exp(sy.I*theta3)-\n",
    "               rho1-rho4*sy.exp(sy.I*theta4)).subs({\n",
    "                    theta2:t,\n",
    "                    rho1:10.0,\n",
    "                    rho2:2.0,\n",
    "                    rho3:8.0,\n",
    "                    rho4:6.0,})\n",
    "    f = sy.Matrix([\n",
    "        [ f1, ],\n",
    "        [ f2, ],\n",
    "    ])\n",
    "    df13 = f1.diff(theta3)\n",
    "    df14 = f1.diff(theta4)\n",
    "    df23 = f2.diff(theta3)\n",
    "    df24 = f2.diff(theta4)\n",
    "    J = sy.Matrix([\n",
    "        [ df13, df14, ],\n",
    "        [ df23, df24, ],\n",
    "    ])\n",
    "    Jinv = J.inv()\n",
    "    iteracoes = []\n",
    "    iteracoes.append(sy.Matrix([\n",
    "                        [ 0.3773, ],\n",
    "                        [ 1.323, ],\n",
    "                    ])) \n",
    "    for k in range(10):\n",
    "        iteracoes.append(iteracoes[k] -(Jinv*f).subs({\n",
    "                                    theta3:iteracoes[k][0],\n",
    "                                    theta4:iteracoes[k][1],\n",
    "                                }))\n",
    "    t3t4.append(iteracoes[9].evalf(4))"
   ]
  },
  {
   "cell_type": "code",
   "execution_count": 41,
   "id": "3d0e0234",
   "metadata": {},
   "outputs": [
    {
     "data": {
      "text/plain": [
       "[<matplotlib.lines.Line2D at 0x1b228bd4220>]"
      ]
     },
     "execution_count": 41,
     "metadata": {},
     "output_type": "execute_result"
    },
    {
     "data": {
      "image/png": "[encoded data removed]",
      "text/plain": [
       "<Figure size 432x288 with 1 Axes>"
      ]
     },
     "metadata": {
      "needs_background": "light"
     },
     "output_type": "display_data"
    }
   ],
   "source": [
    "x = [ m[0] for m in t3t4 ]\n",
    "y = [ m[1] for m in t3t4 ]\n",
    "plt.plot(theta2s,x)\n",
    "plt.plot(theta2s,y)"
   ]
  },
  {
   "cell_type": "code",
   "execution_count": 42,
   "id": "d1f001ed",
   "metadata": {},
   "outputs": [
    {
     "data": {
      "text/plain": [
       "[<matplotlib.lines.Line2D at 0x1b22aeb36d0>]"
      ]
     },
     "execution_count": 42,
     "metadata": {},
     "output_type": "execute_result"
    },
    {
     "data": {
      "image/png": "[encoded data removed]",
      "text/plain": [
       "<Figure size 432x288 with 1 Axes>"
      ]
     },
     "metadata": {
      "needs_background": "light"
     },
     "output_type": "display_data"
    }
   ],
   "source": [
    "plt.plot(theta2s,x)"
   ]
  },
  {
   "cell_type": "code",
   "execution_count": 43,
   "id": "8d57d604",
   "metadata": {},
   "outputs": [
    {
     "data": {
      "text/plain": [
       "[<matplotlib.lines.Line2D at 0x1b22af2e160>]"
      ]
     },
     "execution_count": 43,
     "metadata": {},
     "output_type": "execute_result"
    },
    {
     "data": {
      "image/png": "[encoded data removed]",
      "text/plain": [
       "<Figure size 432x288 with 1 Axes>"
      ]
     },
     "metadata": {
      "needs_background": "light"
     },
     "output_type": "display_data"
    }
   ],
   "source": [
    "plt.plot(theta2s,y)"
   ]
  },
  {
   "cell_type": "code",
   "execution_count": 44,
   "id": "c76470f2",
   "metadata": {},
   "outputs": [
    {
     "data": {
      "text/plain": [
       "0.6411413578754679"
      ]
     },
     "execution_count": 44,
     "metadata": {},
     "output_type": "execute_result"
    }
   ],
   "source": [
    "theta2s[5]"
   ]
  },
  {
   "cell_type": "code",
   "execution_count": 45,
   "id": "93ade44f",
   "metadata": {},
   "outputs": [],
   "source": [
    "t2 = theta2s[5]\n",
    "t3 = t3t4[5][0]\n",
    "t4 = t3t4[5][1]"
   ]
  },
  {
   "cell_type": "code",
   "execution_count": 46,
   "id": "479cbfc7",
   "metadata": {},
   "outputs": [],
   "source": [
    "t2 = theta2s[5]\n",
    "t3 = t3t4[5][0]\n",
    "t4 = t3t4[5][1]\n",
    "xA = sy.re(rho2*sy.exp(sy.I*theta2)).subs({\n",
    "        theta2:t2,\n",
    "        theta3:t3,\n",
    "        theta4:t4,\n",
    "        rho1:10.0,\n",
    "        rho2:2.0,\n",
    "        rho3:8.0,\n",
    "        rho4:6.0,})\n",
    "yA = sy.im(rho2*sy.exp(sy.I*theta2)).subs({\n",
    "        theta2:t2,\n",
    "        theta3:t3,\n",
    "        theta4:t4,\n",
    "        rho1:10.0,\n",
    "        rho2:2.0,\n",
    "        rho3:8.0,\n",
    "        rho4:6.0,})\n",
    "xB = sy.re(rho2*sy.exp(sy.I*theta2)+rho3*sy.exp(sy.I*theta3)).subs({\n",
    "        theta2:t2,\n",
    "        theta3:t3,\n",
    "        theta4:t4,\n",
    "        rho1:10.0,\n",
    "        rho2:2.0,\n",
    "        rho3:8.0,\n",
    "        rho4:6.0,})\n",
    "yB = sy.im(rho2*sy.exp(sy.I*theta2)+rho3*sy.exp(sy.I*theta3)).subs({\n",
    "        theta2:t2,\n",
    "        theta3:t3,\n",
    "        theta4:t4,\n",
    "        rho1:10.0,\n",
    "        rho2:2.0,\n",
    "        rho3:8.0,\n",
    "        rho4:6.0,})"
   ]
  },
  {
   "cell_type": "code",
   "execution_count": 47,
   "id": "a41ca89d",
   "metadata": {},
   "outputs": [
    {
     "data": {
      "text/latex": [
       "$\\displaystyle 1.60282724373591$"
      ],
      "text/plain": [
       "1.60282724373591"
      ]
     },
     "execution_count": 47,
     "metadata": {},
     "output_type": "execute_result"
    }
   ],
   "source": [
    "xA"
   ]
  },
  {
   "cell_type": "code",
   "execution_count": 48,
   "id": "cca279ef",
   "metadata": {},
   "outputs": [
    {
     "data": {
      "text/latex": [
       "$\\displaystyle 1.19622106098243$"
      ],
      "text/plain": [
       "1.19622106098243"
      ]
     },
     "execution_count": 48,
     "metadata": {},
     "output_type": "execute_result"
    }
   ],
   "source": [
    "yA"
   ]
  },
  {
   "cell_type": "code",
   "execution_count": 49,
   "id": "76aaca5e",
   "metadata": {},
   "outputs": [],
   "source": [
    "import matplotlib.pyplot as plt\n",
    "import matplotlib.lines as lines"
   ]
  },
  {
   "cell_type": "code",
   "execution_count": 50,
   "id": "7547b58a",
   "metadata": {},
   "outputs": [
    {
     "data": {
      "text/plain": [
       "<Figure size 432x288 with 0 Axes>"
      ]
     },
     "metadata": {},
     "output_type": "display_data"
    }
   ],
   "source": [
    "fig = plt.figure()\n",
    "fig.add_artist(lines.Line2D([0., 0.], [xA, yA]))\n",
    "fig.add_artist(lines.Line2D([xA, yA], [xB, yB]))\n",
    "plt.show()"
   ]
  },
  {
   "cell_type": "code",
   "execution_count": 51,
   "id": "a801dbfd",
   "metadata": {},
   "outputs": [],
   "source": [
    "k=40\n",
    "t2 = theta2s[k]\n",
    "t3 = t3t4[k][0]\n",
    "t4 = t3t4[k][1]\n",
    "xA = sy.re(rho2*sy.exp(sy.I*theta2)).subs({\n",
    "        theta2:t2,\n",
    "        theta3:t3,\n",
    "        theta4:t4,\n",
    "        rho1:10.0,\n",
    "        rho2:2.0,\n",
    "        rho3:8.0,\n",
    "        rho4:6.0,})\n",
    "yA = sy.im(rho2*sy.exp(sy.I*theta2)).subs({\n",
    "        theta2:t2,\n",
    "        theta3:t3,\n",
    "        theta4:t4,\n",
    "        rho1:10.0,\n",
    "        rho2:2.0,\n",
    "        rho3:8.0,\n",
    "        rho4:6.0,})\n",
    "xB = sy.re(rho2*sy.exp(sy.I*theta2)+rho3*sy.exp(sy.I*theta3)).subs({\n",
    "        theta2:t2,\n",
    "        theta3:t3,\n",
    "        theta4:t4,\n",
    "        rho1:10.0,\n",
    "        rho2:2.0,\n",
    "        rho3:8.0,\n",
    "        rho4:6.0,})\n",
    "yB = sy.im(rho2*sy.exp(sy.I*theta2)+rho3*sy.exp(sy.I*theta3)).subs({\n",
    "        theta2:t2,\n",
    "        theta3:t3,\n",
    "        theta4:t4,\n",
    "        rho1:10.0,\n",
    "        rho2:2.0,\n",
    "        rho3:8.0,\n",
    "        rho4:6.0,})"
   ]
  },
  {
   "cell_type": "code",
   "execution_count": 52,
   "id": "6d9d21d0",
   "metadata": {},
   "outputs": [
    {
     "data": {
      "text/plain": [
       "[<matplotlib.lines.Line2D at 0x1b22afa2a30>]"
      ]
     },
     "execution_count": 52,
     "metadata": {},
     "output_type": "execute_result"
    },
    {
     "data": {
      "image/png": "[encoded data removed]",
      "text/plain": [
       "<Figure size 432x288 with 1 Axes>"
      ]
     },
     "metadata": {
      "needs_background": "light"
     },
     "output_type": "display_data"
    }
   ],
   "source": [
    "x = [0.,xA,xB,10.]\n",
    "y = [0.,yA,yB,0.]\n",
    "plt.plot(x,y)"
   ]
  },
  {
   "cell_type": "code",
   "execution_count": 53,
   "id": "a5f6c1d1",
   "metadata": {},
   "outputs": [
    {
     "data": {
      "image/png": "[encoded data removed]",
      "text/plain": [
       "<Figure size 432x288 with 1 Axes>"
      ]
     },
     "metadata": {
      "needs_background": "light"
     },
     "output_type": "display_data"
    }
   ],
   "source": [
    "for k in range(50):\n",
    "    t2 = theta2s[k]\n",
    "    t3 = t3t4[k][0]\n",
    "    t4 = t3t4[k][1]\n",
    "    xA = sy.re(rho2*sy.exp(sy.I*theta2)).subs({\n",
    "            theta2:t2,\n",
    "            theta3:t3,\n",
    "            theta4:t4,\n",
    "            rho1:10.0,\n",
    "            rho2:2.0,\n",
    "            rho3:8.0,\n",
    "            rho4:6.0,})\n",
    "    yA = sy.im(rho2*sy.exp(sy.I*theta2)).subs({\n",
    "            theta2:t2,\n",
    "            theta3:t3,\n",
    "            theta4:t4,\n",
    "            rho1:10.0,\n",
    "            rho2:2.0,\n",
    "            rho3:8.0,\n",
    "            rho4:6.0,})\n",
    "    xB = sy.re(rho2*sy.exp(sy.I*theta2)+rho3*sy.exp(sy.I*theta3)).subs({\n",
    "            theta2:t2,\n",
    "            theta3:t3,\n",
    "            theta4:t4,\n",
    "            rho1:10.0,\n",
    "            rho2:2.0,\n",
    "            rho3:8.0,\n",
    "            rho4:6.0,})\n",
    "    yB = sy.im(rho2*sy.exp(sy.I*theta2)+rho3*sy.exp(sy.I*theta3)).subs({\n",
    "            theta2:t2,\n",
    "            theta3:t3,\n",
    "            theta4:t4,\n",
    "            rho1:10.0,\n",
    "            rho2:2.0,\n",
    "            rho3:8.0,\n",
    "            rho4:6.0,})\n",
    "    x = [0.,xA,xB,10.]\n",
    "    y = [0.,yA,yB,0.]\n",
    "    plt.plot(x,y)"
   ]
  },
  {
   "cell_type": "code",
   "execution_count": 54,
   "id": "b1aa31bc",
   "metadata": {},
   "outputs": [],
   "source": [
    "t3 = [ t[0] for t in t3t4 ]\n",
    "t4 = [ t[1] for t in t3t4 ]"
   ]
  },
  {
   "cell_type": "code",
   "execution_count": 55,
   "id": "2e324529",
   "metadata": {},
   "outputs": [
    {
     "data": {
      "text/latex": [
       "$\\displaystyle 0.3898$"
      ],
      "text/plain": [
       "0.3898"
      ]
     },
     "execution_count": 55,
     "metadata": {},
     "output_type": "execute_result"
    }
   ],
   "source": [
    "min(t3)"
   ]
  },
  {
   "cell_type": "code",
   "execution_count": 56,
   "id": "331d75aa",
   "metadata": {},
   "outputs": [
    {
     "data": {
      "text/plain": [
       "2.3081088883516845"
      ]
     },
     "execution_count": 56,
     "metadata": {},
     "output_type": "execute_result"
    }
   ],
   "source": [
    "theta2s[t3.index(min(t3))]"
   ]
  },
  {
   "cell_type": "code",
   "execution_count": 57,
   "id": "b8220a44",
   "metadata": {},
   "outputs": [
    {
     "data": {
      "text/latex": [
       "$\\displaystyle 0.8957$"
      ],
      "text/plain": [
       "0.8957"
      ]
     },
     "execution_count": 57,
     "metadata": {},
     "output_type": "execute_result"
    }
   ],
   "source": [
    "max(t3)"
   ]
  },
  {
   "cell_type": "code",
   "execution_count": 58,
   "id": "0dd38888",
   "metadata": {},
   "outputs": [
    {
     "data": {
      "text/plain": [
       "5.385587406153931"
      ]
     },
     "execution_count": 58,
     "metadata": {},
     "output_type": "execute_result"
    }
   ],
   "source": [
    "theta2s[t3.index(max(t3))]"
   ]
  },
  {
   "cell_type": "code",
   "execution_count": 59,
   "id": "f8bc93c8",
   "metadata": {},
   "outputs": [
    {
     "data": {
      "text/latex": [
       "$\\displaystyle 1.876$"
      ],
      "text/plain": [
       "1.876"
      ]
     },
     "execution_count": 59,
     "metadata": {},
     "output_type": "execute_result"
    }
   ],
   "source": [
    "min(t4)"
   ]
  },
  {
   "cell_type": "code",
   "execution_count": 60,
   "id": "c8747bbc",
   "metadata": {},
   "outputs": [
    {
     "data": {
      "text/plain": [
       "0.6411413578754679"
      ]
     },
     "execution_count": 60,
     "metadata": {},
     "output_type": "execute_result"
    }
   ],
   "source": [
    "theta2s[t4.index(min(t4))]"
   ]
  },
  {
   "cell_type": "code",
   "execution_count": 61,
   "id": "6e0771ed",
   "metadata": {},
   "outputs": [
    {
     "data": {
      "text/latex": [
       "$\\displaystyle 2.556$"
      ],
      "text/plain": [
       "2.556"
      ]
     },
     "execution_count": 61,
     "metadata": {},
     "output_type": "execute_result"
    }
   ],
   "source": [
    "max(t4)"
   ]
  },
  {
   "cell_type": "code",
   "execution_count": 62,
   "id": "c03bc8cf",
   "metadata": {},
   "outputs": [
    {
     "data": {
      "text/plain": [
       "3.7186198756777142"
      ]
     },
     "execution_count": 62,
     "metadata": {},
     "output_type": "execute_result"
    }
   ],
   "source": [
    "theta2s[t4.index(max(t4))]"
   ]
  }
 ],
 "metadata": {
  "kernelspec": {
   "display_name": "Python 3 (ipykernel)",
   "language": "python",
   "name": "python3"
  },
  "language_info": {
   "codemirror_mode": {
    "name": "ipython",
    "version": 3
   },
   "file_extension": ".py",
   "mimetype": "text/x-python",
   "name": "python",
   "nbconvert_exporter": "python",
   "pygments_lexer": "ipython3",
   "version": "3.11.5"
  }
 },
 "nbformat": 4,
 "nbformat_minor": 5
}
